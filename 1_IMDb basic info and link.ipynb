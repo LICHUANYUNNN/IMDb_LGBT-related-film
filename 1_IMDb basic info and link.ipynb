{
 "cells": [
  {
   "cell_type": "code",
   "execution_count": null,
   "metadata": {},
   "outputs": [],
   "source": [
    "import requests \n",
    "import bs4 as bs "
   ]
  },
  {
   "cell_type": "code",
   "execution_count": null,
   "metadata": {},
   "outputs": [],
   "source": [
    "#key word: lesbian, gay, bisexual, transgender\n",
    "names=[]\n",
    "years=[]\n",
    "genres=[]\n",
    "movieids=[]\n",
    "pages = [str(i) for i in range(1,32)]  #modify the range according to the results\n",
    "\n",
    "for i in pages:\n",
    "    source = requests.get(\"https://www.imdb.com/search/keyword?keywords=lesbian&sort=moviemeter,asc&mode=detail&page=\"+i+\"&title_type=movie&release_date=1998%2C2018&ref_=kw_nxt\")\n",
    "    source.encoding = 'utf-8'\n",
    "    soup = bs.BeautifulSoup(source.content , features='html.parser')   \n",
    "    container = soup.find('div', attrs={'class': 'lister-list'})\n",
    "    \n",
    "    for n in container.find_all('img'):\n",
    "        name = n.get('alt')\n",
    "        names.append(name)\n",
    "    for y in container.find_all('span',attrs={'class':'lister-item-year text-muted unbold'}):\n",
    "        year = y.get_text()\n",
    "        years.append(year)\n",
    "    for g in container.find_all('span',attrs={'class':'genre'}):\n",
    "        genre = g.get_text().replace(\"\\n\",\" \")\n",
    "        genres.append(genre)\n",
    "    for title in container.find_all('h3',attrs={'class':'lister-item-header'}):\n",
    "        for l in title.find_all('a'):\n",
    "            movieid = l.get('href')\n",
    "            movieids.append(movieid)\n"
   ]
  },
  {
   "cell_type": "code",
   "execution_count": null,
   "metadata": {},
   "outputs": [],
   "source": [
    "data1 = {\n",
    "    'name': names,\n",
    "    'year': years,\n",
    "    'genre':genres}"
   ]
  },
  {
   "cell_type": "code",
   "execution_count": null,
   "metadata": {},
   "outputs": [],
   "source": [
    "import pandas as pd\n",
    "df = pd.DataFrame.from_dict(data1, orient ='index').transpose()\n",
    "df.to_csv('IMDb basicinfo_L.csv')"
   ]
  },
  {
   "cell_type": "code",
   "execution_count": null,
   "metadata": {},
   "outputs": [],
   "source": [
    "df"
   ]
  },
  {
   "cell_type": "code",
   "execution_count": null,
   "metadata": {},
   "outputs": [],
   "source": [
    "x = {'id': movieids}\n",
    "movieid = pd.DataFrame.from_dict(x, orient ='index').transpose()\n",
    "movieid.to_csv('IMDb movieid_L.csv')"
   ]
  },
  {
   "cell_type": "code",
   "execution_count": null,
   "metadata": {},
   "outputs": [],
   "source": [
    "movieid"
   ]
  },
  {
   "cell_type": "code",
   "execution_count": null,
   "metadata": {},
   "outputs": [],
   "source": []
  }
 ],
 "metadata": {
  "kernelspec": {
   "display_name": "Python 3",
   "language": "python",
   "name": "python3"
  },
  "language_info": {
   "codemirror_mode": {
    "name": "ipython",
    "version": 3
   },
   "file_extension": ".py",
   "mimetype": "text/x-python",
   "name": "python",
   "nbconvert_exporter": "python",
   "pygments_lexer": "ipython3",
   "version": "3.7.0"
  }
 },
 "nbformat": 4,
 "nbformat_minor": 2
}
